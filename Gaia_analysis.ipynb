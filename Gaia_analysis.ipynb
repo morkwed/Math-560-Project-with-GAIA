{
 "cells": [
  {
   "cell_type": "code",
   "execution_count": 36,
   "metadata": {},
   "outputs": [],
   "source": [
    "%matplotlib inline\n",
    "from astropy.table import Table\n",
    "from astropy.io import ascii\n",
    "import numpy as np\n",
    "from scipy import stats\n",
    "import matplotlib.pyplot as plt\n",
    "\n",
    "import inspect"
   ]
  },
  {
   "cell_type": "code",
   "execution_count": 2,
   "metadata": {},
   "outputs": [],
   "source": [
    "#puts new database into table\n",
    "tab = ascii.read(\"data/Gaia_master_V3.csv\", format='csv')\n",
    "\n"
   ]
  },
  {
   "cell_type": "code",
   "execution_count": 3,
   "metadata": {},
   "outputs": [
    {
     "data": {
      "text/html": [
       "<i>Row index=0</i>\n",
       "<table id=\"table139903708607488\">\n",
       "<thead><tr><th>Solution_ID</th><th>R</th><th>Theta</th><th>Phi</th><th>B-R</th><th>B-G</th><th>G-R</th></tr></thead>\n",
       "<thead><tr><th>int64</th><th>float64</th><th>float64</th><th>float64</th><th>float64</th><th>float64</th><th>float64</th></tr></thead>\n",
       "<tr><td>1635721458409799680</td><td>8.5078</td><td>87.1138</td><td>-1.5524</td><td>0.7983</td><td>0.3254</td><td>0.4729</td></tr>\n",
       "</table>"
      ],
      "text/plain": [
       "<Row index=0>\n",
       "    Solution_ID        R     Theta    Phi     B-R     B-G     G-R  \n",
       "       int64        float64 float64 float64 float64 float64 float64\n",
       "------------------- ------- ------- ------- ------- ------- -------\n",
       "1635721458409799680  8.5078 87.1138 -1.5524  0.7983  0.3254  0.4729"
      ]
     },
     "execution_count": 3,
     "metadata": {},
     "output_type": "execute_result"
    }
   ],
   "source": [
    "tab[0]"
   ]
  },
  {
   "cell_type": "code",
   "execution_count": 55,
   "metadata": {},
   "outputs": [
    {
     "data": {
      "text/plain": [
       "Power_divergenceResult(statistic=array([2446928.87654746, 1699936.23367874]), pvalue=array([1., 1.]))"
      ]
     },
     "execution_count": 55,
     "metadata": {},
     "output_type": "execute_result"
    }
   ],
   "source": [
    "# Chi squared not meaningful data\n",
    "arr = np.array([tab['R'], tab['B-G']]).T\n",
    "\n",
    "\n",
    "stats.mstats.chisquare(arr)\n",
    "#chi2, p = stats.mstats.chisquare(arr)\n",
    "\n",
    "#print(p)\n",
    "#print(chi2)"
   ]
  },
  {
   "cell_type": "code",
   "execution_count": 57,
   "metadata": {},
   "outputs": [
    {
     "name": "stdout",
     "output_type": "stream",
     "text": [
      "f_stat: 262.7056518244451\n",
      "p_value: 4.4187062125207595e-59\n"
     ]
    }
   ],
   "source": [
    "#Puts table columns into individual arrays.\n",
    "R = np.array(tab['R'])\n",
    "T = np.array(tab['Theta'])\n",
    "P = np.array(tab['Phi'])\n",
    "br = np.array(tab['B-R'])\n",
    "bg = np.array(tab['B-G'])\n",
    "gr = np.array(tab['G-R'])\n",
    "\n",
    "\n",
    "# can use to check Anova f_stats an p_value indiviudualy\n",
    "f1,p1 = stats.f_oneway(T,gr)\n",
    "\n",
    "print(\"f_stat:\",f1)\n",
    "print(\"p_value:\",p1)\n"
   ]
  },
  {
   "cell_type": "code",
   "execution_count": 53,
   "metadata": {},
   "outputs": [],
   "source": [
    "\n",
    "#Checks each explanetory array against each response array and outputs results to a table.\n",
    "splain = [R,T,P]\n",
    "sponse = [br,bg,gr]\n",
    "r_name = [\"r\", \"theta\", \"phi\"]\n",
    "count = 0\n",
    "\n",
    "t = Table(names=('Component','B-R_f-stat', 'B-R_pvalue','B-G_f-stat', 'B-G_pvalue','G-R_f-stat', 'G-R_pvalue'),dtype=('S5', 'f4', 'f2', 'f4', 'f4', 'f4', 'f4'))\n",
    "          \n",
    "for i in splain:\n",
    "    nrow = []\n",
    "    \n",
    "    \n",
    "          \n",
    "    nrow.append(r_name[count])\n",
    "    count = count +1\n",
    "        \n",
    "    \n",
    "        \n",
    "    for j in sponse:\n",
    "        f,p = stats.f_oneway(i,j)\n",
    "        nrow.append(f)\n",
    "        nrow.append(p)\n",
    "        \n",
    "    t.add_row(nrow)\n",
    "          \n",
    "\n",
    "          "
   ]
  },
  {
   "cell_type": "code",
   "execution_count": 54,
   "metadata": {},
   "outputs": [
    {
     "data": {
      "text/html": [
       "<i>Table length=3</i>\n",
       "<table id=\"table139903538612040\" class=\"table-striped table-bordered table-condensed\">\n",
       "<thead><tr><th>Component</th><th>B-R_f-stat</th><th>B-R_pvalue</th><th>B-G_f-stat</th><th>B-G_pvalue</th><th>G-R_f-stat</th><th>G-R_pvalue</th></tr></thead>\n",
       "<thead><tr><th>bytes5</th><th>float32</th><th>float16</th><th>float32</th><th>float32</th><th>float32</th><th>float32</th></tr></thead>\n",
       "<tr><td>r</td><td>96080910.0</td><td>0.0</td><td>128969510.0</td><td>0.0</td><td>132117430.0</td><td>0.0</td></tr>\n",
       "<tr><td>theta</td><td>26.632986</td><td>2.4e-07</td><td>315.48846</td><td>0.0</td><td>262.70566</td><td>0.0</td></tr>\n",
       "<tr><td>phi</td><td>22436.805</td><td>0.0</td><td>857.07556</td><td>0.0</td><td>1403.0636</td><td>0.0</td></tr>\n",
       "</table>"
      ],
      "text/plain": [
       "<Table length=3>\n",
       "Component B-R_f-stat B-R_pvalue  B-G_f-stat B-G_pvalue  G-R_f-stat G-R_pvalue\n",
       "  bytes5   float32    float16     float32    float32     float32    float32  \n",
       "--------- ---------- ---------- ----------- ---------- ----------- ----------\n",
       "        r 96080910.0        0.0 128969510.0        0.0 132117430.0        0.0\n",
       "    theta  26.632986    2.4e-07   315.48846        0.0   262.70566        0.0\n",
       "      phi  22436.805        0.0   857.07556        0.0   1403.0636        0.0"
      ]
     },
     "execution_count": 54,
     "metadata": {},
     "output_type": "execute_result"
    }
   ],
   "source": [
    "#output table\n",
    "t"
   ]
  },
  {
   "cell_type": "markdown",
   "metadata": {},
   "source": [
    "<h1> Results </h1>\n",
    "<p> P_value is not zero, however in all but the theta vs B-R they are so small they are converted to zero.  All relationships have an extremely low probablility of corelation. </p>\n",
    "\n"
   ]
  },
  {
   "cell_type": "code",
   "execution_count": null,
   "metadata": {},
   "outputs": [],
   "source": []
  }
 ],
 "metadata": {
  "kernelspec": {
   "display_name": "Python 3",
   "language": "python",
   "name": "python3"
  },
  "language_info": {
   "codemirror_mode": {
    "name": "ipython",
    "version": 3
   },
   "file_extension": ".py",
   "mimetype": "text/x-python",
   "name": "python",
   "nbconvert_exporter": "python",
   "pygments_lexer": "ipython3",
   "version": "3.6.5"
  }
 },
 "nbformat": 4,
 "nbformat_minor": 2
}
